{
 "cells": [
  {
   "cell_type": "markdown",
   "metadata": {},
   "source": [
    "## Датасет собран из базы данных переписи 1994 года и содержит данные о доходах.\n",
    "### Информация о данных:\n",
    "* age: continuous.\n",
    "* workclass: Private, Self-emp-not-inc, Self-emp-inc, Federal-gov, Local-gov, State-gov, Without-pay, Never-worked.\n",
    "* fnlwgt: continuous.\n",
    "* education: Bachelors, Some-college, 11th, HS-grad, Prof-school, Assoc-acdm, Assoc-voc, 9th, 7th-8th, 12th, * Masters, 1st-4th, 10th, Doctorate, 5th-6th, Preschool.\n",
    "* education-num: continuous.\n",
    "* marital-status: Married-civ-spouse, Divorced, Never-married, Separated, Widowed, Married-spouse-absent, Married-AF-spouse.\n",
    "* occupation: Tech-support, Craft-repair, Other-service, Sales, Exec-managerial, Prof-specialty, Handlers-cleaners, Machine-op-inspct, Adm-clerical, Farming-fishing, Transport-moving, Priv-house-serv, Protective-serv, Armed-Forces.\n",
    "* relationship: Wife, Own-child, Husband, Not-in-family, Other-relative, Unmarried.\n",
    "* race: White, Asian-Pac-Islander, Amer-Indian-Eskimo, Other, Black.\n",
    "* sex: Female, Male.\n",
    "* capital-gain: continuous.\n",
    "* capital-loss: continuous.\n",
    "* hours-per-week: continuous.\n",
    "* native-country: United-States, Cambodia, England, Puerto-Rico, Canada, Germany, Outlying-US(Guam-USVI-etc), India, Japan, Greece, South, China, Cuba, Iran, Honduras, Philippines, Italy, Poland, Jamaica, Vietnam, Mexico, Portugal, Ireland, France, Dominican-Republic, Laos, Ecuador, Taiwan, Haiti, Columbia, Hungary, Guatemala, Nicaragua, Scotland, Thailand, Yugoslavia, El-Salvador, Trinadad&Tobago, Peru, Hong, Holand-Netherlands.\n",
    "* salary: >50K,<=50K\n",
    "\n",
    "## Проведите анализ данных при помощи Pandas выполнив поставленные задачи.\n",
    "#### "
   ]
  },
  {
   "cell_type": "code",
   "execution_count": 1,
   "metadata": {},
   "outputs": [],
   "source": [
    "import pandas as pd"
   ]
  },
  {
   "cell_type": "code",
   "execution_count": 36,
   "metadata": {},
   "outputs": [
    {
     "data": {
      "text/html": [
       "<div>\n",
       "<style scoped>\n",
       "    .dataframe tbody tr th:only-of-type {\n",
       "        vertical-align: middle;\n",
       "    }\n",
       "\n",
       "    .dataframe tbody tr th {\n",
       "        vertical-align: top;\n",
       "    }\n",
       "\n",
       "    .dataframe thead th {\n",
       "        text-align: right;\n",
       "    }\n",
       "</style>\n",
       "<table border=\"1\" class=\"dataframe\">\n",
       "  <thead>\n",
       "    <tr style=\"text-align: right;\">\n",
       "      <th></th>\n",
       "      <th>age</th>\n",
       "      <th>workclass</th>\n",
       "      <th>fnlwgt</th>\n",
       "      <th>education</th>\n",
       "      <th>education-num</th>\n",
       "      <th>marital-status</th>\n",
       "      <th>occupation</th>\n",
       "      <th>relationship</th>\n",
       "      <th>race</th>\n",
       "      <th>sex</th>\n",
       "      <th>capital-gain</th>\n",
       "      <th>capital-loss</th>\n",
       "      <th>hours-per-week</th>\n",
       "      <th>native-country</th>\n",
       "      <th>salary</th>\n",
       "    </tr>\n",
       "  </thead>\n",
       "  <tbody>\n",
       "    <tr>\n",
       "      <th>0</th>\n",
       "      <td>39</td>\n",
       "      <td>State-gov</td>\n",
       "      <td>77516</td>\n",
       "      <td>Bachelors</td>\n",
       "      <td>13</td>\n",
       "      <td>Never-married</td>\n",
       "      <td>Adm-clerical</td>\n",
       "      <td>Not-in-family</td>\n",
       "      <td>White</td>\n",
       "      <td>Male</td>\n",
       "      <td>2174</td>\n",
       "      <td>0</td>\n",
       "      <td>40</td>\n",
       "      <td>United-States</td>\n",
       "      <td>&lt;=50K</td>\n",
       "    </tr>\n",
       "    <tr>\n",
       "      <th>1</th>\n",
       "      <td>50</td>\n",
       "      <td>Self-emp-not-inc</td>\n",
       "      <td>83311</td>\n",
       "      <td>Bachelors</td>\n",
       "      <td>13</td>\n",
       "      <td>Married-civ-spouse</td>\n",
       "      <td>Exec-managerial</td>\n",
       "      <td>Husband</td>\n",
       "      <td>White</td>\n",
       "      <td>Male</td>\n",
       "      <td>0</td>\n",
       "      <td>0</td>\n",
       "      <td>13</td>\n",
       "      <td>United-States</td>\n",
       "      <td>&lt;=50K</td>\n",
       "    </tr>\n",
       "    <tr>\n",
       "      <th>2</th>\n",
       "      <td>38</td>\n",
       "      <td>Private</td>\n",
       "      <td>215646</td>\n",
       "      <td>HS-grad</td>\n",
       "      <td>9</td>\n",
       "      <td>Divorced</td>\n",
       "      <td>Handlers-cleaners</td>\n",
       "      <td>Not-in-family</td>\n",
       "      <td>White</td>\n",
       "      <td>Male</td>\n",
       "      <td>0</td>\n",
       "      <td>0</td>\n",
       "      <td>40</td>\n",
       "      <td>United-States</td>\n",
       "      <td>&lt;=50K</td>\n",
       "    </tr>\n",
       "    <tr>\n",
       "      <th>3</th>\n",
       "      <td>53</td>\n",
       "      <td>Private</td>\n",
       "      <td>234721</td>\n",
       "      <td>11th</td>\n",
       "      <td>7</td>\n",
       "      <td>Married-civ-spouse</td>\n",
       "      <td>Handlers-cleaners</td>\n",
       "      <td>Husband</td>\n",
       "      <td>Black</td>\n",
       "      <td>Male</td>\n",
       "      <td>0</td>\n",
       "      <td>0</td>\n",
       "      <td>40</td>\n",
       "      <td>United-States</td>\n",
       "      <td>&lt;=50K</td>\n",
       "    </tr>\n",
       "    <tr>\n",
       "      <th>4</th>\n",
       "      <td>28</td>\n",
       "      <td>Private</td>\n",
       "      <td>338409</td>\n",
       "      <td>Bachelors</td>\n",
       "      <td>13</td>\n",
       "      <td>Married-civ-spouse</td>\n",
       "      <td>Prof-specialty</td>\n",
       "      <td>Wife</td>\n",
       "      <td>Black</td>\n",
       "      <td>Female</td>\n",
       "      <td>0</td>\n",
       "      <td>0</td>\n",
       "      <td>40</td>\n",
       "      <td>Cuba</td>\n",
       "      <td>&lt;=50K</td>\n",
       "    </tr>\n",
       "  </tbody>\n",
       "</table>\n",
       "</div>"
      ],
      "text/plain": [
       "   age         workclass  fnlwgt  education  education-num  \\\n",
       "0   39         State-gov   77516  Bachelors             13   \n",
       "1   50  Self-emp-not-inc   83311  Bachelors             13   \n",
       "2   38           Private  215646    HS-grad              9   \n",
       "3   53           Private  234721       11th              7   \n",
       "4   28           Private  338409  Bachelors             13   \n",
       "\n",
       "       marital-status         occupation   relationship   race     sex  \\\n",
       "0       Never-married       Adm-clerical  Not-in-family  White    Male   \n",
       "1  Married-civ-spouse    Exec-managerial        Husband  White    Male   \n",
       "2            Divorced  Handlers-cleaners  Not-in-family  White    Male   \n",
       "3  Married-civ-spouse  Handlers-cleaners        Husband  Black    Male   \n",
       "4  Married-civ-spouse     Prof-specialty           Wife  Black  Female   \n",
       "\n",
       "   capital-gain  capital-loss  hours-per-week native-country salary  \n",
       "0          2174             0              40  United-States  <=50K  \n",
       "1             0             0              13  United-States  <=50K  \n",
       "2             0             0              40  United-States  <=50K  \n",
       "3             0             0              40  United-States  <=50K  \n",
       "4             0             0              40           Cuba  <=50K  "
      ]
     },
     "execution_count": 36,
     "metadata": {},
     "output_type": "execute_result"
    }
   ],
   "source": [
    "data = pd.read_csv(\"./data/adult.data.csv\")\n",
    "data.head()"
   ]
  },
  {
   "cell_type": "code",
   "execution_count": 37,
   "metadata": {},
   "outputs": [
    {
     "name": "stdout",
     "output_type": "stream",
     "text": [
      "(32561, 15)\n"
     ]
    }
   ],
   "source": [
    "print(data.shape)"
   ]
  },
  {
   "cell_type": "markdown",
   "metadata": {},
   "source": [
    "**1. Посчитайте, сколько мужчин и женщин (признак *sex*) представлено в этом датасете**"
   ]
  },
  {
   "cell_type": "code",
   "execution_count": null,
   "metadata": {},
   "outputs": [
    {
     "name": "stdout",
     "output_type": "stream",
     "text": [
      "Number of men and women:\n",
      " sex\n",
      "Male      21790\n",
      "Female    10771\n",
      "Name: count, dtype: int64\n"
     ]
    }
   ],
   "source": [
    "number_of_men_and_women = data['sex'].value_counts()\n",
    "print('Number of men and women: \\n', number_of_men_and_women)"
   ]
  },
  {
   "cell_type": "markdown",
   "metadata": {},
   "source": [
    "**2. Каков средний возраст мужчин (признак *age*) по всему датасету?**"
   ]
  },
  {
   "cell_type": "code",
   "execution_count": 9,
   "metadata": {},
   "outputs": [
    {
     "name": "stdout",
     "output_type": "stream",
     "text": [
      "Mean male age:  39\n"
     ]
    }
   ],
   "source": [
    "male_mask = data['sex'].str.lower() == 'male'\n",
    "male_ages = data.loc[male_mask, 'age']\n",
    "mean_male_age = male_ages.mean()\n",
    "print('Mean male age: ', round(mean_male_age))"
   ]
  },
  {
   "cell_type": "markdown",
   "metadata": {},
   "source": [
    "**3. Какова доля граждан Соединенных Штатов (признак *native-country*)?**"
   ]
  },
  {
   "cell_type": "code",
   "execution_count": 11,
   "metadata": {},
   "outputs": [
    {
     "name": "stdout",
     "output_type": "stream",
     "text": [
      "Proportion of usa citizens:  90\n"
     ]
    }
   ],
   "source": [
    "usa_nation_mask = data['native-country'].str.lower() == 'united-states'\n",
    "people_from_usa = data.loc[usa_nation_mask, 'native-country'].size\n",
    "number_of_persons = data['native-country'].size\n",
    "proportion_of_usa_citizens = people_from_usa / number_of_persons * 100\n",
    "print('Proportion of usa citizens: ', round(proportion_of_usa_citizens))"
   ]
  },
  {
   "cell_type": "markdown",
   "metadata": {},
   "source": [
    "**4-5. Рассчитайте среднее значение и среднеквадратичное отклонение возраста тех, кто получает более 50K в год (признак *salary*) и тех, кто получает менее 50K в год**"
   ]
  },
  {
   "cell_type": "code",
   "execution_count": 20,
   "metadata": {},
   "outputs": [
    {
     "name": "stdout",
     "output_type": "stream",
     "text": [
      "Mean salary age of those who receives less than 50k per year:  37\n",
      "Mean salary age of those who receives more than 50k per year:  44\n",
      "Std of age of those who receives less than 50k per year:  14.02\n",
      "Std of age of those who receives more than 50k per year:  10.52\n"
     ]
    }
   ],
   "source": [
    "low_salary_mask = data['salary'].str.lower() == '<=50k'\n",
    "high_salary_mask = data['salary'].str.lower() == '>50k'\n",
    "\n",
    "low_salary_ages = data.loc[low_salary_mask, 'age']\n",
    "high_salary_ages = data.loc[high_salary_mask, 'age']\n",
    "\n",
    "mean_low_salary_age = low_salary_ages.mean()\n",
    "mean_high_salary_age = high_salary_ages.mean()\n",
    "print('Mean salary age of those who receives less than 50k per year: ', round(mean_low_salary_age))\n",
    "print('Mean salary age of those who receives more than 50k per year: ', round(mean_high_salary_age))\n",
    "\n",
    "std_low_salary_age = low_salary_ages.std()\n",
    "std_high_salary_age = high_salary_ages.std()\n",
    "print('Std of age of those who receives less than 50k per year: ', round(std_low_salary_age, 2))\n",
    "print('Std of age of those who receives more than 50k per year: ', round(std_high_salary_age, 2))\n"
   ]
  },
  {
   "cell_type": "markdown",
   "metadata": {},
   "source": [
    "**6. Правда ли, что люди, которые получают больше 50k, имеют минимум высшее образование? (признак *education – Bachelors, Prof-school, Assoc-acdm, Assoc-voc, Masters* или *Doctorate*)**"
   ]
  },
  {
   "cell_type": "code",
   "execution_count": 18,
   "metadata": {},
   "outputs": [
    {
     "name": "stdout",
     "output_type": "stream",
     "text": [
      "Education tipes:  ['Bachelors' 'HS-grad' '11th' 'Masters' '9th' 'Some-college' 'Assoc-acdm'\n",
      " 'Assoc-voc' '7th-8th' 'Doctorate' 'Prof-school' '5th-6th' '10th'\n",
      " '1st-4th' 'Preschool' '12th']\n"
     ]
    }
   ],
   "source": [
    "unique_values_education = data['education'].unique()\n",
    "print('Education tipes: ', unique_values_education)"
   ]
  },
  {
   "cell_type": "code",
   "execution_count": 25,
   "metadata": {},
   "outputs": [
    {
     "name": "stdout",
     "output_type": "stream",
     "text": [
      "No, this is false, because in the dataset among those who receive more than 50k per year there are 3306 of those who has lower education\n"
     ]
    }
   ],
   "source": [
    "low_education = ['HS-grad', '11th', '9th', 'Some-college', '7th-8th', '5th-6th', '10th', '1st-4th', 'Preschool', '12th']\n",
    "high_salary_mask = data['salary'].str.lower() == '>50k'\n",
    "low_education_mask = data['education'].isin(low_education)\n",
    "counter_examples = data[high_salary_mask & low_education_mask]\n",
    "if counter_examples.shape[0] == 0:\n",
    "  print('Yes, that is true')\n",
    "else:\n",
    "  print(f'No, this is false, because in the dataset among those who receive more than 50k per year there are {counter_examples.shape[0]} of those who has lower education')"
   ]
  },
  {
   "cell_type": "markdown",
   "metadata": {},
   "source": [
    "**7. Выведите статистику возраста для каждой расы (признак *race*) и каждого пола. Используйте *groupby* и *describe*. Найдите таким образом максимальный возраст мужчин расы *Asian-Pac-Islander*.**"
   ]
  },
  {
   "cell_type": "code",
   "execution_count": 26,
   "metadata": {
    "scrolled": true
   },
   "outputs": [
    {
     "name": "stdout",
     "output_type": "stream",
     "text": [
      "Max male age for Asian-Pac-Islander race:  90.0\n"
     ]
    }
   ],
   "source": [
    "age_for_race_and_sex = data.groupby(['race', 'sex'])['age'].describe()\n",
    "max_male_age = age_for_race_and_sex.loc[('Asian-Pac-Islander', 'Male'), 'max']\n",
    "\n",
    "print('Max male age for Asian-Pac-Islander race: ', max_male_age)"
   ]
  },
  {
   "cell_type": "markdown",
   "metadata": {},
   "source": [
    "**8. Среди кого больше доля зарабатывающих много (>50K): среди женатых или холостых мужчин (признак *marital-status*)? Женатыми считаем тех, у кого *marital-status* начинается с *Married* (Married-civ-spouse, Married-spouse-absent или Married-AF-spouse), остальных считаем холостыми.**"
   ]
  },
  {
   "cell_type": "code",
   "execution_count": 32,
   "metadata": {},
   "outputs": [
    {
     "name": "stdout",
     "output_type": "stream",
     "text": [
      "Average age of married man:  44\n",
      "Proportion of married men with high salary:  44.05\n",
      "Average age of single man:  32\n",
      "Proportion of single men with high salary:  8.45\n"
     ]
    },
    {
     "name": "stderr",
     "output_type": "stream",
     "text": [
      "C:\\Users\\37529\\AppData\\Local\\Temp\\ipykernel_17992\\4070433476.py:7: UserWarning: Boolean Series key will be reindexed to match DataFrame index.\n",
      "  num_high_salary_married = (married_men[high_salary_mask]).shape[0]\n",
      "C:\\Users\\37529\\AppData\\Local\\Temp\\ipykernel_17992\\4070433476.py:18: UserWarning: Boolean Series key will be reindexed to match DataFrame index.\n",
      "  num_high_salary_single = (single_men[high_salary_mask]).shape[0]\n"
     ]
    }
   ],
   "source": [
    "married_mask = data['marital-status'].str.contains('^Married', na=False)\n",
    "male_mask = data['sex'].str.lower() == 'male'\n",
    "\n",
    "married_men = data[male_mask & married_mask]\n",
    "mean_married_man_age = married_men['age'].mean()\n",
    "print('Average age of married man: ', round(mean_married_man_age))\n",
    "num_high_salary_married = (married_men[high_salary_mask]).shape[0]\n",
    "total_married = married_men.shape[0]\n",
    "if total_married > 0:\n",
    "    proportion_of_high_salary_married = (num_high_salary_married / total_married) * 100\n",
    "    print('Proportion of married men with high salary: ', round(proportion_of_high_salary_married, 2))\n",
    "else:\n",
    "    print('Proportion of married men with high salary: 0.00% (No married men found)')\n",
    "\n",
    "single_men = data[male_mask & (~married_mask)]\n",
    "mean_single_man_age = single_men['age'].mean()\n",
    "print('Average age of single man: ', round(mean_single_man_age))\n",
    "num_high_salary_single = (single_men[high_salary_mask]).shape[0]\n",
    "total_single = single_men.shape[0]\n",
    "if total_single > 0:\n",
    "    proportion_of_high_salary_single = (num_high_salary_single / total_single) * 100\n",
    "    print('Proportion of single men with high salary: ', round(proportion_of_high_salary_single, 2))\n",
    "else:\n",
    "    print('Proportion of single men with high salary: 0.00% (No single men found)')"
   ]
  },
  {
   "cell_type": "markdown",
   "metadata": {},
   "source": [
    "**9. Какое максимальное число часов человек работает в неделю (признак *hours-per-week*)? Сколько людей работают такое количество часов и каков среди них процент зарабатывающих много?**"
   ]
  },
  {
   "cell_type": "code",
   "execution_count": 44,
   "metadata": {},
   "outputs": [
    {
     "name": "stdout",
     "output_type": "stream",
     "text": [
      "Max ours per week:  99\n",
      "Number of persons who work for 99 hours per week: 85\n",
      "Percentage of persons who recieves high salaries and morks for 99 hours: 29.41\n"
     ]
    }
   ],
   "source": [
    "max_hours_per_week = data['hours-per-week'].max()\n",
    "print('Max ours per week: ', max_hours_per_week)\n",
    "\n",
    "hours_mask = data['hours-per-week'] == max_hours_per_week\n",
    "hard_working_persons = data.loc[hours_mask, 'hours-per-week']\n",
    "print(f'Number of persons who work for {max_hours_per_week} hours per week: {hard_working_persons.shape[0]}')\n",
    "\n",
    "hard_working_persons_high_salary = hard_working_persons[high_salary_mask]\n",
    "percentage_high_salary_max_ours = hard_working_persons_high_salary.shape[0] / hard_working_persons.shape[0] * 100\n",
    "print(f'Percentage of persons who recieves high salaries and morks for {max_hours_per_week} hours: {round(percentage_high_salary_max_ours, 2)}')"
   ]
  },
  {
   "cell_type": "markdown",
   "metadata": {},
   "source": [
    "**10. Посчитайте среднее время работы (*hours-per-week*) зарабатывающих мало и много (*salary*) для каждой страны (*native-country*).**"
   ]
  },
  {
   "cell_type": "code",
   "execution_count": 46,
   "metadata": {
    "scrolled": true
   },
   "outputs": [
    {
     "name": "stdout",
     "output_type": "stream",
     "text": [
      "Mean working time per week for each country:  native-country  salary\n",
      "?               <=50K     40.16\n",
      "                >50K      45.55\n",
      "Cambodia        <=50K     41.42\n",
      "                >50K      40.00\n",
      "Canada          <=50K     37.91\n",
      "                          ...  \n",
      "United-States   >50K      45.51\n",
      "Vietnam         <=50K     37.19\n",
      "                >50K      39.20\n",
      "Yugoslavia      <=50K     41.60\n",
      "                >50K      49.50\n",
      "Name: hours-per-week, Length: 82, dtype: float64\n"
     ]
    }
   ],
   "source": [
    "mean_work_hours_by_country_and_salary = data.groupby(['native-country', 'salary'])['hours-per-week'].mean()\n",
    "print('Mean working time per week for each country: ', round(mean_work_hours_by_country_and_salary, 2))\n"
   ]
  },
  {
   "cell_type": "markdown",
   "metadata": {},
   "source": [
    "**11.Сгруппируйте людей по возрастным группам *young*, *adult*, *retiree*, где:**\n",
    "* *young* соответствует 16-35 лет\n",
    "* *adult* - 35-70 лет\n",
    "* *retiree* - 70-100 лет\n",
    "\n",
    "**Проставьте название соответсвтуещей группы для каждого человека в новой колонке AgeGroup**"
   ]
  },
  {
   "cell_type": "code",
   "execution_count": 48,
   "metadata": {
    "scrolled": true
   },
   "outputs": [
    {
     "name": "stdout",
     "output_type": "stream",
     "text": [
      "   age         workclass  fnlwgt  education  education-num  \\\n",
      "0   39         State-gov   77516  Bachelors             13   \n",
      "1   50  Self-emp-not-inc   83311  Bachelors             13   \n",
      "2   38           Private  215646    HS-grad              9   \n",
      "3   53           Private  234721       11th              7   \n",
      "4   28           Private  338409  Bachelors             13   \n",
      "\n",
      "       marital-status         occupation   relationship   race     sex  \\\n",
      "0       Never-married       Adm-clerical  Not-in-family  White    Male   \n",
      "1  Married-civ-spouse    Exec-managerial        Husband  White    Male   \n",
      "2            Divorced  Handlers-cleaners  Not-in-family  White    Male   \n",
      "3  Married-civ-spouse  Handlers-cleaners        Husband  Black    Male   \n",
      "4  Married-civ-spouse     Prof-specialty           Wife  Black  Female   \n",
      "\n",
      "   capital-gain  capital-loss  hours-per-week native-country salary AgeGroup  \n",
      "0          2174             0              40  United-States  <=50K    adult  \n",
      "1             0             0              13  United-States  <=50K    adult  \n",
      "2             0             0              40  United-States  <=50K    adult  \n",
      "3             0             0              40  United-States  <=50K    adult  \n",
      "4             0             0              40           Cuba  <=50K    young  \n"
     ]
    }
   ],
   "source": [
    "age_groups = [16, 35, 70, 100]\n",
    "age_labels = ['young', 'adult', 'retiree']\n",
    "data['AgeGroup'] = pd.cut(data['age'], bins=age_groups, labels=age_labels, right=False, include_lowest=True)\n",
    "\n",
    "print(data.head())\n"
   ]
  },
  {
   "cell_type": "markdown",
   "metadata": {},
   "source": [
    "**12-13. Определите количество зарабатывающих >50K в каждой из возрастных групп (колонка AgeGroup), а также выведите название возрастной группы, в которой чаще зарабатывают больше 50К (>50K)**"
   ]
  },
  {
   "cell_type": "code",
   "execution_count": 55,
   "metadata": {},
   "outputs": [
    {
     "name": "stdout",
     "output_type": "stream",
     "text": [
      "Number of persons with high salaries in each group:  AgeGroup\n",
      "young      1488\n",
      "adult      6240\n",
      "retiree     113\n",
      "Name: IsHighSalary, dtype: int64\n",
      "Group with biggest percentage: adult, percentage: 35\n"
     ]
    },
    {
     "name": "stderr",
     "output_type": "stream",
     "text": [
      "C:\\Users\\37529\\AppData\\Local\\Temp\\ipykernel_17992\\694982392.py:3: FutureWarning: The default of observed=False is deprecated and will be changed to True in a future version of pandas. Pass observed=False to retain current behavior or observed=True to adopt the future default and silence this warning.\n",
      "  high_salary_in_each_group = data.groupby('AgeGroup')['IsHighSalary'].sum()\n"
     ]
    }
   ],
   "source": [
    "data['IsHighSalary'] = high_salary_mask\n",
    "all_age_groups = data['AgeGroup'].value_counts()\n",
    "high_salary_in_each_group = data.groupby('AgeGroup')['IsHighSalary'].sum()\n",
    "proportion_high_salary_in_each_group = high_salary_in_each_group / all_age_groups * 100\n",
    "print('Number of persons with high salaries in each group: ', high_salary_in_each_group)\n",
    "group_with_highest_percentage = proportion_high_salary_in_each_group.idxmax()\n",
    "print(f'Group with biggest percentage: {group_with_highest_percentage}, percentage: {round(proportion_high_salary_in_each_group.max())}')"
   ]
  },
  {
   "cell_type": "markdown",
   "metadata": {},
   "source": [
    "**14. Сгруппируйте людей по типу занятости (колонка occupation) и определите количество людей в каждой группе. После чего напишите функциюю фильтрации filter_func, которая будет возвращать только те группы, в которых средний возраст (колонка age) не больше 40 и в которых все работники отрабатывают более 5 часов в неделю (колонка hours-per-week)**"
   ]
  },
  {
   "cell_type": "code",
   "execution_count": 57,
   "metadata": {},
   "outputs": [
    {
     "name": "stdout",
     "output_type": "stream",
     "text": [
      "occupation\n",
      "Prof-specialty       4140\n",
      "Craft-repair         4099\n",
      "Exec-managerial      4066\n",
      "Adm-clerical         3770\n",
      "Sales                3650\n",
      "Other-service        3295\n",
      "Machine-op-inspct    2002\n",
      "?                    1843\n",
      "Transport-moving     1597\n",
      "Handlers-cleaners    1370\n",
      "Farming-fishing       994\n",
      "Tech-support          928\n",
      "Protective-serv       649\n",
      "Priv-house-serv       149\n",
      "Armed-Forces            9\n",
      "Name: count, dtype: int64\n",
      "Filtered groups:  ['Armed-Forces']\n"
     ]
    }
   ],
   "source": [
    "occupation_groups = data['occupation'].value_counts()\n",
    "print(occupation_groups)\n",
    "\n",
    "grouped_by_occupation_df = data.groupby('occupation')\n",
    "\n",
    "def filter_func(dataset):\n",
    "  mean_age_mask = dataset['age'].mean() <= 40\n",
    "  min_hours_mask = dataset['hours-per-week'].min() > 5\n",
    "  return mean_age_mask and min_hours_mask\n",
    "\n",
    "filtered_df = grouped_by_occupation_df.filter(filter_func)\n",
    "result = filtered_df['occupation'].unique()\n",
    "print('Filtered groups: ', result)\n"
   ]
  }
 ],
 "metadata": {
  "anaconda-cloud": {},
  "kernelspec": {
   "display_name": "venv",
   "language": "python",
   "name": "python3"
  },
  "language_info": {
   "codemirror_mode": {
    "name": "ipython",
    "version": 3
   },
   "file_extension": ".py",
   "mimetype": "text/x-python",
   "name": "python",
   "nbconvert_exporter": "python",
   "pygments_lexer": "ipython3",
   "version": "3.12.0"
  }
 },
 "nbformat": 4,
 "nbformat_minor": 1
}
