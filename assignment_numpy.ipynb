{
 "cells": [
  {
   "cell_type": "markdown",
   "id": "d3df79dd",
   "metadata": {},
   "source": [
    "## Упражнения по библиотеке Numpy"
   ]
  },
  {
   "cell_type": "code",
   "execution_count": 1,
   "id": "76b9c43b",
   "metadata": {},
   "outputs": [],
   "source": [
    "import numpy as np"
   ]
  },
  {
   "cell_type": "markdown",
   "id": "ef2fa9ba",
   "metadata": {},
   "source": [
    "Создание случайного массива для заданий 1-2"
   ]
  },
  {
   "cell_type": "code",
   "execution_count": 6,
   "id": "7678b657",
   "metadata": {},
   "outputs": [
    {
     "name": "stdout",
     "output_type": "stream",
     "text": [
      "Random array: [ -3   7  -4   9   1 -10   8 -10  -7  -2   2  -4  -5  -3   0]\n"
     ]
    }
   ],
   "source": [
    "random_number_generator = np.random.default_rng()\n",
    "random_array = random_number_generator.integers(low=-10, high=10, size=15)\n",
    "\n",
    "print(f'Random array: {random_array}')"
   ]
  },
  {
   "cell_type": "markdown",
   "id": "03727b7c",
   "metadata": {},
   "source": [
    "**1.** Дан случайный массив, поменять знак у элементов, значения которых между 3 и 8"
   ]
  },
  {
   "cell_type": "code",
   "execution_count": 7,
   "id": "b89a7523",
   "metadata": {},
   "outputs": [
    {
     "name": "stdout",
     "output_type": "stream",
     "text": [
      "Copied array: [ -3   7  -4   9   1 -10   8 -10  -7  -2   2  -4  -5  -3   0]\n",
      "Result: [ -3  -7  -4   9   1 -10  -8 -10  -7  -2   2  -4  -5  -3   0]\n"
     ]
    }
   ],
   "source": [
    "def opposite_sign(array):\n",
    "  random_array_copy_1 = np.copy(array)\n",
    "  print(f'Copied array: {random_array_copy_1}')\n",
    "  condition_mask = (array >= 3) & (array <= 8)\n",
    "  random_array_copy_1[condition_mask] = random_array_copy_1[condition_mask] *(-1)\n",
    "  print(f'Result: {random_array_copy_1}')\n",
    "\n",
    "opposite_sign(random_array)"
   ]
  },
  {
   "cell_type": "markdown",
   "id": "5fa4abda",
   "metadata": {},
   "source": [
    "**2.** Заменить максимальный элемент случайного массива на 0"
   ]
  },
  {
   "cell_type": "code",
   "execution_count": 8,
   "id": "f2788a6e",
   "metadata": {},
   "outputs": [
    {
     "name": "stdout",
     "output_type": "stream",
     "text": [
      "Copied array: [ -3   7  -4   9   1 -10   8 -10  -7  -2   2  -4  -5  -3   0]\n",
      "Max element: 9\n",
      "Result: [ -3   7  -4   0   1 -10   8 -10  -7  -2   2  -4  -5  -3   0]\n"
     ]
    }
   ],
   "source": [
    "def replace_max_elem(array):\n",
    "  random_array_copy_2 = np.copy(array)\n",
    "  print(f'Copied array: {random_array_copy_2}')\n",
    "  max_elem = random_array_copy_2.max()\n",
    "  print(f'Max element: {max_elem}')\n",
    "  condition_mask = random_array_copy_2 == max_elem\n",
    "  random_array_copy_2[condition_mask] = 0\n",
    "  print(f'Result: {random_array_copy_2}')\n",
    "\n",
    "replace_max_elem(random_array)"
   ]
  },
  {
   "cell_type": "markdown",
   "id": "96e136a2",
   "metadata": {},
   "source": [
    "Создание двумерного массива для задания 3"
   ]
  },
  {
   "cell_type": "code",
   "execution_count": 9,
   "id": "7fac0a3d",
   "metadata": {},
   "outputs": [
    {
     "name": "stdout",
     "output_type": "stream",
     "text": [
      "First 2d array:  [-4  2 -4  8] [ 8 -4 -4  4] [-5  4 -2 -1]\n",
      "Second 2d array:  [ 2  0  9 -1] [8 6 8 9] [ 1 -1  3 -5]\n"
     ]
    }
   ],
   "source": [
    "random_2d_array_1 = random_number_generator.integers(low=-5, high=10, size=(3,4))\n",
    "print('First 2d array: ', *random_2d_array_1)\n",
    "random_2d_array_2 = random_number_generator.integers(low=-5, high=10, size=(3,4))\n",
    "print('Second 2d array: ', *random_2d_array_2)"
   ]
  },
  {
   "cell_type": "markdown",
   "id": "b5829576",
   "metadata": {},
   "source": [
    "**3.** Построить прямое произведение массивов (все комбинации с каждым элементом). На вход подается двумерный массив"
   ]
  },
  {
   "cell_type": "markdown",
   "id": "61b67b52",
   "metadata": {},
   "source": [
    "Со сплющиванием массивов"
   ]
  },
  {
   "cell_type": "code",
   "execution_count": 10,
   "id": "3396b764",
   "metadata": {},
   "outputs": [
    {
     "name": "stdout",
     "output_type": "stream",
     "text": [
      "Result of cartesian product: [[-4  2]\n",
      " [-4  0]\n",
      " [-4  9]\n",
      " [-4 -1]\n",
      " [-4  8]\n",
      " [-4  6]\n",
      " [-4  8]\n",
      " [-4  9]\n",
      " [-4  1]\n",
      " [-4 -1]\n",
      " [-4  3]\n",
      " [-4 -5]\n",
      " [ 2  2]\n",
      " [ 2  0]\n",
      " [ 2  9]\n",
      " [ 2 -1]\n",
      " [ 2  8]\n",
      " [ 2  6]\n",
      " [ 2  8]\n",
      " [ 2  9]\n",
      " [ 2  1]\n",
      " [ 2 -1]\n",
      " [ 2  3]\n",
      " [ 2 -5]\n",
      " [-4  2]\n",
      " [-4  0]\n",
      " [-4  9]\n",
      " [-4 -1]\n",
      " [-4  8]\n",
      " [-4  6]\n",
      " [-4  8]\n",
      " [-4  9]\n",
      " [-4  1]\n",
      " [-4 -1]\n",
      " [-4  3]\n",
      " [-4 -5]\n",
      " [ 8  2]\n",
      " [ 8  0]\n",
      " [ 8  9]\n",
      " [ 8 -1]\n",
      " [ 8  8]\n",
      " [ 8  6]\n",
      " [ 8  8]\n",
      " [ 8  9]\n",
      " [ 8  1]\n",
      " [ 8 -1]\n",
      " [ 8  3]\n",
      " [ 8 -5]\n",
      " [ 8  2]\n",
      " [ 8  0]\n",
      " [ 8  9]\n",
      " [ 8 -1]\n",
      " [ 8  8]\n",
      " [ 8  6]\n",
      " [ 8  8]\n",
      " [ 8  9]\n",
      " [ 8  1]\n",
      " [ 8 -1]\n",
      " [ 8  3]\n",
      " [ 8 -5]\n",
      " [-4  2]\n",
      " [-4  0]\n",
      " [-4  9]\n",
      " [-4 -1]\n",
      " [-4  8]\n",
      " [-4  6]\n",
      " [-4  8]\n",
      " [-4  9]\n",
      " [-4  1]\n",
      " [-4 -1]\n",
      " [-4  3]\n",
      " [-4 -5]\n",
      " [-4  2]\n",
      " [-4  0]\n",
      " [-4  9]\n",
      " [-4 -1]\n",
      " [-4  8]\n",
      " [-4  6]\n",
      " [-4  8]\n",
      " [-4  9]\n",
      " [-4  1]\n",
      " [-4 -1]\n",
      " [-4  3]\n",
      " [-4 -5]\n",
      " [ 4  2]\n",
      " [ 4  0]\n",
      " [ 4  9]\n",
      " [ 4 -1]\n",
      " [ 4  8]\n",
      " [ 4  6]\n",
      " [ 4  8]\n",
      " [ 4  9]\n",
      " [ 4  1]\n",
      " [ 4 -1]\n",
      " [ 4  3]\n",
      " [ 4 -5]\n",
      " [-5  2]\n",
      " [-5  0]\n",
      " [-5  9]\n",
      " [-5 -1]\n",
      " [-5  8]\n",
      " [-5  6]\n",
      " [-5  8]\n",
      " [-5  9]\n",
      " [-5  1]\n",
      " [-5 -1]\n",
      " [-5  3]\n",
      " [-5 -5]\n",
      " [ 4  2]\n",
      " [ 4  0]\n",
      " [ 4  9]\n",
      " [ 4 -1]\n",
      " [ 4  8]\n",
      " [ 4  6]\n",
      " [ 4  8]\n",
      " [ 4  9]\n",
      " [ 4  1]\n",
      " [ 4 -1]\n",
      " [ 4  3]\n",
      " [ 4 -5]\n",
      " [-2  2]\n",
      " [-2  0]\n",
      " [-2  9]\n",
      " [-2 -1]\n",
      " [-2  8]\n",
      " [-2  6]\n",
      " [-2  8]\n",
      " [-2  9]\n",
      " [-2  1]\n",
      " [-2 -1]\n",
      " [-2  3]\n",
      " [-2 -5]\n",
      " [-1  2]\n",
      " [-1  0]\n",
      " [-1  9]\n",
      " [-1 -1]\n",
      " [-1  8]\n",
      " [-1  6]\n",
      " [-1  8]\n",
      " [-1  9]\n",
      " [-1  1]\n",
      " [-1 -1]\n",
      " [-1  3]\n",
      " [-1 -5]]\n"
     ]
    }
   ],
   "source": [
    "from itertools import product\n",
    "\n",
    "def cartezian_product(array_2d_1, array_2d_2):\n",
    "  flatted_array_1 = np.ravel(array_2d_1)\n",
    "  flatted_array_2 = np.ravel(array_2d_2)\n",
    "  pares_iterator = product(flatted_array_1, flatted_array_2)\n",
    "  result = np.array(list(pares_iterator))\n",
    "  print(f'Result of cartesian product: {result}')\n",
    "\n",
    "cartezian_product(random_2d_array_1, random_2d_array_2)"
   ]
  },
  {
   "cell_type": "markdown",
   "id": "78453914",
   "metadata": {},
   "source": [
    "Без сплющивания массивов"
   ]
  },
  {
   "cell_type": "code",
   "execution_count": 11,
   "id": "5e51cf97",
   "metadata": {},
   "outputs": [
    {
     "name": "stdout",
     "output_type": "stream",
     "text": [
      "Result of cartesian product: [[[-4  2 -4  8]\n",
      "  [ 2  0  9 -1]]\n",
      "\n",
      " [[-4  2 -4  8]\n",
      "  [ 8  6  8  9]]\n",
      "\n",
      " [[-4  2 -4  8]\n",
      "  [ 1 -1  3 -5]]\n",
      "\n",
      " [[ 8 -4 -4  4]\n",
      "  [ 2  0  9 -1]]\n",
      "\n",
      " [[ 8 -4 -4  4]\n",
      "  [ 8  6  8  9]]\n",
      "\n",
      " [[ 8 -4 -4  4]\n",
      "  [ 1 -1  3 -5]]\n",
      "\n",
      " [[-5  4 -2 -1]\n",
      "  [ 2  0  9 -1]]\n",
      "\n",
      " [[-5  4 -2 -1]\n",
      "  [ 8  6  8  9]]\n",
      "\n",
      " [[-5  4 -2 -1]\n",
      "  [ 1 -1  3 -5]]]\n"
     ]
    }
   ],
   "source": [
    "def cartezian_product_2(array_2d_1, array_2d_2):\n",
    "  pares_iterator = product(array_2d_1, array_2d_2)\n",
    "  result = np.array(list(pares_iterator))\n",
    "  print(f'Result of cartesian product: {result}')\n",
    "\n",
    "cartezian_product_2(random_2d_array_1, random_2d_array_2)"
   ]
  },
  {
   "cell_type": "markdown",
   "id": "6a4c0490",
   "metadata": {},
   "source": [
    "Создание массивов для задания 4"
   ]
  },
  {
   "cell_type": "code",
   "execution_count": 12,
   "id": "66001e43",
   "metadata": {},
   "outputs": [
    {
     "name": "stdout",
     "output_type": "stream",
     "text": [
      "Array A:  [9 1 5] [1 5 2] [5 9 3] [5 8 4] [0 6 7] [9 9 9] [2 4 6] [3 7 8]\n",
      "Array B:  [1 5] [9 5]\n"
     ]
    }
   ],
   "source": [
    "B = np.array([\n",
    "    [1, 5],\n",
    "    [9, 5]\n",
    "])\n",
    "\n",
    "A = np.array([\n",
    "    [9, 1, 5],\n",
    "    [1, 5, 2],\n",
    "    [5, 9, 3],\n",
    "    [5, 8, 4],\n",
    "    [0, 6, 7],\n",
    "    [9, 9, 9],\n",
    "    [2, 4, 6],\n",
    "    [3, 7, 8]\n",
    "])\n",
    "\n",
    "print('Array A: ', *A)\n",
    "print('Array B: ', *B)"
   ]
  },
  {
   "cell_type": "markdown",
   "id": "674c9354",
   "metadata": {},
   "source": [
    "**4.** Даны 2 массива A (8x3) и B (2x2). Найти строки в A, которые содержат элементы из каждой строки в B, независимо от порядка элементов в B"
   ]
  },
  {
   "cell_type": "code",
   "execution_count": 13,
   "id": "cb664782",
   "metadata": {},
   "outputs": [
    {
     "name": "stdout",
     "output_type": "stream",
     "text": [
      "Result:  [9 1 5]\n"
     ]
    }
   ],
   "source": [
    "def find_lines(array_a, array_b):\n",
    "  lines = []\n",
    "  for element in array_a:\n",
    "    in_line = np.isin(array_b, element) \n",
    "    all_elements_of_row_in_line = np.all(in_line, axis=1)\n",
    "    all_elements_of_b_in_line = np.all(all_elements_of_row_in_line)\n",
    "    if all_elements_of_b_in_line:\n",
    "      lines.append(element)\n",
    "\n",
    "  result = np.array(lines)\n",
    "  print('Result: ', *result)\n",
    "\n",
    "find_lines(A, B)"
   ]
  },
  {
   "cell_type": "markdown",
   "id": "f70befc7",
   "metadata": {},
   "source": [
    "Создание матрицы для задания 5"
   ]
  },
  {
   "cell_type": "code",
   "execution_count": 38,
   "id": "5e1ab09c",
   "metadata": {},
   "outputs": [
    {
     "name": "stdout",
     "output_type": "stream",
     "text": [
      "2D array with duplicates:  [1 2 3] [4 4 4] [10 11 12] [11 11 21] [-2 -2 -2] [1 2 3] [11 11 11] [7 8 9]\n"
     ]
    }
   ],
   "source": [
    "array_with_same_values_in_rows = np.array([\n",
    "  [1, 2, 3], \n",
    "  [4, 4, 4],\n",
    "  [10, 11, 12],\n",
    "  [11, 11, 21],\n",
    "  [-2, -2, -2], \n",
    "  [1, 2, 3], \n",
    "  [11, 11, 11], \n",
    "  [7, 8, 9]\n",
    "])\n",
    "\n",
    "print('2D array with duplicates: ', *array_with_same_values_in_rows)"
   ]
  },
  {
   "cell_type": "markdown",
   "id": "fa46533b",
   "metadata": {},
   "source": [
    "**5.** Дана 10x3 матрица, найти строки из неравных значений (например строка [2,2,3] остается, строка [3,3,3] удаляется)"
   ]
  },
  {
   "cell_type": "code",
   "execution_count": 39,
   "id": "fa545b23",
   "metadata": {},
   "outputs": [
    {
     "name": "stdout",
     "output_type": "stream",
     "text": [
      "Mask:  [ True False  True False False  True False  True]\n",
      "Result:  [[ 1  2  3]\n",
      " [10 11 12]\n",
      " [ 1  2  3]\n",
      " [ 7  8  9]]\n"
     ]
    }
   ],
   "source": [
    "\n",
    "def is_unique(row):\n",
    "  return len(row) == len(np.unique(row))\n",
    "\n",
    "def delite_rows_with_same_values(array_2d):\n",
    "  filtered_mask = np.apply_along_axis(is_unique, axis=1, arr=array_2d)\n",
    "  print('Mask: ', filtered_mask)\n",
    "  result = array_2d[filtered_mask]\n",
    "  print('Result: ', result)\n",
    "\n",
    "delite_rows_with_same_values(array_with_same_values_in_rows)"
   ]
  },
  {
   "cell_type": "markdown",
   "id": "5e9492c4",
   "metadata": {},
   "source": [
    "Создание двумерного массива с дубликатами для задания 6"
   ]
  },
  {
   "cell_type": "code",
   "execution_count": 40,
   "id": "e2e8633f",
   "metadata": {},
   "outputs": [
    {
     "name": "stdout",
     "output_type": "stream",
     "text": [
      "2D array with duplicates:  [1 2 3] [4 5 6] [10 11 12] [11 11 21] [4 5 6] [1 2 3] [11 11 21] [7 8 9]\n"
     ]
    }
   ],
   "source": [
    "array_with_duplicates = np.array([\n",
    "  [1, 2, 3], \n",
    "  [4, 5, 6],\n",
    "  [10, 11, 12],\n",
    "  [11, 11, 21],\n",
    "  [4, 5, 6], \n",
    "  [1, 2, 3], \n",
    "  [11, 11, 21], \n",
    "  [7, 8, 9]\n",
    "])\n",
    "\n",
    "print('2D array with duplicates: ', *array_with_duplicates)"
   ]
  },
  {
   "cell_type": "markdown",
   "id": "28f0d116",
   "metadata": {},
   "source": [
    "**6.** Дан двумерный массив. Удалить те строки, которые повторяются"
   ]
  },
  {
   "cell_type": "code",
   "execution_count": 41,
   "id": "83d2c0b7",
   "metadata": {},
   "outputs": [
    {
     "name": "stdout",
     "output_type": "stream",
     "text": [
      "Array without duplicates:  [1 2 3] [4 5 6] [7 8 9] [10 11 12] [11 11 21]\n"
     ]
    }
   ],
   "source": [
    "def delite_duplicate_lines(array_2d):\n",
    "  array_without_duplicates = np.unique(array_2d, axis=0)\n",
    "  print('Array without duplicates: ', *array_without_duplicates)\n",
    "\n",
    "delite_duplicate_lines(array_with_duplicates)"
   ]
  },
  {
   "cell_type": "markdown",
   "id": "6daa9e37",
   "metadata": {},
   "source": [
    "______\n",
    "______"
   ]
  },
  {
   "cell_type": "markdown",
   "id": "cfbfcaff",
   "metadata": {},
   "source": [
    "Для каждой из следующих задач (1-5) нужно привести 2 реализации – одна без использования numpy (cчитайте, что там, где на входе или выходе должны быть numpy array, будут просто списки), а вторая полностью векторизованная с использованием numpy (без использования питоновских циклов/map/list comprehension).\n",
    "\n",
    "\n",
    "__Замечание 1.__ Можно считать, что все указанные объекты непустые (к примеру, в __задаче 1__ на диагонали матрицы есть ненулевые элементы).\n",
    "\n",
    "__Замечание 2.__ Для большинства задач решение занимает не больше 1-2 строк."
   ]
  },
  {
   "cell_type": "markdown",
   "id": "673cac7f",
   "metadata": {},
   "source": [
    "___"
   ]
  },
  {
   "cell_type": "markdown",
   "id": "ca6f585e",
   "metadata": {},
   "source": [
    "* __Задача 1__: Подсчитать произведение ненулевых элементов на диагонали прямоугольной матрицы.  \n",
    " Например, для X = np.array([[1, 0, 1], [2, 0, 2], [3, 0, 3], [4, 4, 4]]) ответ 3."
   ]
  },
  {
   "cell_type": "markdown",
   "id": "cfb5a324",
   "metadata": {},
   "source": [
    "Реализация 1 "
   ]
  },
  {
   "cell_type": "code",
   "execution_count": 6,
   "id": "065862fc",
   "metadata": {},
   "outputs": [
    {
     "name": "stdout",
     "output_type": "stream",
     "text": [
      "Result:  3\n"
     ]
    }
   ],
   "source": [
    "list_task_1 = [[1, 0, 1], [2, 0, 2], [3, 0, 3], [4, 4, 4]]\n",
    "\n",
    "def task_1_list(list_of_lists):\n",
    "  result = 1\n",
    "  number_of_rows = len(list_of_lists)\n",
    "  number_of_columns = len(list_of_lists[0]) if number_of_rows > 0 else 0\n",
    "  final_index = min(number_of_columns, number_of_rows)\n",
    "  for i in range(final_index):\n",
    "    elem = list_of_lists[i][i]\n",
    "    if elem != 0:\n",
    "      result *= elem\n",
    "\n",
    "  print('Result: ', result)\n",
    "  \n",
    "\n",
    "task_1_list(list_task_1)"
   ]
  },
  {
   "cell_type": "markdown",
   "id": "24048683",
   "metadata": {},
   "source": [
    "Реализация 2"
   ]
  },
  {
   "cell_type": "code",
   "execution_count": 2,
   "id": "a2c08b93",
   "metadata": {},
   "outputs": [
    {
     "name": "stdout",
     "output_type": "stream",
     "text": [
      "Result:  3\n"
     ]
    }
   ],
   "source": [
    "rectangle_matrix = np.array([[1, 0, 1], [2, 0, 2], [3, 0, 3], [4, 4, 4]])\n",
    "\n",
    "def task_1_numpy(rectangle_matrix):\n",
    "  diagonal = np.diag(rectangle_matrix)\n",
    "  conditional_mask = diagonal != 0\n",
    "  non_zero_elements = diagonal[conditional_mask]\n",
    "  result = np.prod(non_zero_elements)\n",
    "  print('Result: ', result)\n",
    "\n",
    "task_1_numpy(rectangle_matrix)"
   ]
  },
  {
   "cell_type": "markdown",
   "id": "9fc51d41",
   "metadata": {},
   "source": [
    "* __Задача 2__: Даны два вектора x и y. Проверить, задают ли они одно и то же мультимножество.  \n",
    "  Например, для x = np.array([1, 2, 2, 4]), y = np.array([4, 2, 1, 2]) ответ True."
   ]
  },
  {
   "cell_type": "markdown",
   "id": "247bd11c",
   "metadata": {},
   "source": [
    "Реализация 1"
   ]
  },
  {
   "cell_type": "code",
   "execution_count": 3,
   "id": "a809e02f",
   "metadata": {},
   "outputs": [
    {
     "name": "stdout",
     "output_type": "stream",
     "text": [
      "Result:  True\n"
     ]
    }
   ],
   "source": [
    "list_1 = [1, 2, 2, 4]\n",
    "list_2 = [4, 2, 1, 2]\n",
    "\n",
    "def check_multiset(list_1, list_2):\n",
    "  if len(list_1) != len(list_2):\n",
    "    return False\n",
    "  return sorted(list_1) == sorted(list_2)\n",
    "\n",
    "result = check_multiset(list_1, list_2)\n",
    "print('Result: ', result)"
   ]
  },
  {
   "cell_type": "markdown",
   "id": "a24e31a3",
   "metadata": {},
   "source": [
    "Реализация 2"
   ]
  },
  {
   "cell_type": "code",
   "execution_count": 7,
   "id": "73aeb225",
   "metadata": {},
   "outputs": [
    {
     "name": "stdout",
     "output_type": "stream",
     "text": [
      "Result:  True\n"
     ]
    }
   ],
   "source": [
    "vector_1 = np.array([1, 2, 2, 4])\n",
    "vector_2 = np.array([4, 2, 1, 2])\n",
    "\n",
    "def check_multiset_numpy(vector_1, vector_2):\n",
    "  if vector_1.size != vector_2.size:\n",
    "    return False\n",
    "  return np.array_equal(np.sort(vector_1), np.sort(vector_2))\n",
    "\n",
    "result = check_multiset_numpy(vector_1, vector_2)\n",
    "print('Result: ', result)"
   ]
  },
  {
   "cell_type": "markdown",
   "id": "b9c185c7",
   "metadata": {},
   "source": [
    "* __Задача 3__: Найти максимальный элемент в векторе x среди элементов, перед которыми стоит ноль. \n",
    " Например, для x = np.array([6, 2, 0, 3, 0, 0, 5, 7, 0]) ответ 5."
   ]
  },
  {
   "cell_type": "markdown",
   "id": "821ae195",
   "metadata": {},
   "source": [
    "Реализация 1"
   ]
  },
  {
   "cell_type": "code",
   "execution_count": 9,
   "id": "b57df008",
   "metadata": {},
   "outputs": [
    {
     "name": "stdout",
     "output_type": "stream",
     "text": [
      "Max element:  5\n"
     ]
    }
   ],
   "source": [
    "list_with_zeros = [6, 2, 0, 3, 0, 0, 5, 7, 0]\n",
    "\n",
    "def max_element(list_with_zeros):\n",
    "  max_elem = -float('inf')\n",
    "  for i in range(1, len(list_with_zeros)):\n",
    "    if list_with_zeros[i - 1] == 0:\n",
    "      current_elem = list_with_zeros[i]\n",
    "\n",
    "      if current_elem > max_elem:\n",
    "        max_elem = current_elem\n",
    "  \n",
    "  if max_elem == -float('inf'):\n",
    "    print('There is no 0 in a list')\n",
    "  else:\n",
    "    print('Max element: ', max_elem)\n",
    "\n",
    "max_element(list_with_zeros)"
   ]
  },
  {
   "cell_type": "markdown",
   "id": "eddd7202",
   "metadata": {},
   "source": [
    "Реализация 2"
   ]
  },
  {
   "cell_type": "code",
   "execution_count": 8,
   "id": "9991e544",
   "metadata": {},
   "outputs": [
    {
     "name": "stdout",
     "output_type": "stream",
     "text": [
      "Result:  True\n"
     ]
    }
   ],
   "source": [
    "vector_with_zeros = np.array([6, 2, 0, 3, 0, 0, 7, 0])\n",
    "\n",
    "def max_element_numpy(vector_with_zeros):\n",
    "  zeros = np.where(vector_with_zeros == 0)[0]\n",
    "  elements_indexes = zeros + 1\n",
    "  suitable_indexes = elements_indexes[elements_indexes < vector_with_zeros.size]\n",
    "  suitable_elements = vector_with_zeros[suitable_indexes]\n",
    "  if suitable_elements.size == 0:\n",
    "    print('There is no 0 in a vector')\n",
    "  else:\n",
    "    max_elem = np.max(suitable_elements)\n",
    "    print('Result: ', result)\n",
    "\n",
    "max_element_numpy(vector_with_zeros)"
   ]
  },
  {
   "cell_type": "markdown",
   "id": "480be4ce",
   "metadata": {},
   "source": [
    "* __Задача 4__: Реализовать кодирование длин серий (Run-length encoding). Для некоторого вектора x необходимо вернуть кортеж из двух векторов одинаковой длины. Первый содержит числа, а второй - сколько раз их нужно повторить.  \n",
    " Например, для x = np.array([2, 2, 2, 3, 3, 3, 5]) ответ (np.array([2, 3, 5]), np.array([3, 3, 1]))."
   ]
  },
  {
   "cell_type": "markdown",
   "id": "c3a1e27e",
   "metadata": {},
   "source": [
    "Реализация 1"
   ]
  },
  {
   "cell_type": "code",
   "execution_count": 9,
   "id": "3c592124",
   "metadata": {},
   "outputs": [
    {
     "name": "stdout",
     "output_type": "stream",
     "text": [
      "Result:  [2, 2, 2, 3, 3, 3, 5] [3, 3, 1]\n"
     ]
    }
   ],
   "source": [
    "list_with_repetitions = [2, 2, 2, 3, 3, 3, 5]\n",
    "\n",
    "def split_list(list_with_repetitions):\n",
    "  if len(list_with_repetitions) == 0:\n",
    "    print('Result: ', [], [])\n",
    "  else: \n",
    "    unique_elems = set(list_with_repetitions)\n",
    "    repetitions = []\n",
    "    for elem in unique_elems:\n",
    "      counter = 0\n",
    "      for val in list_with_repetitions:\n",
    "        if elem == val:\n",
    "          counter += 1\n",
    "      repetitions.append(counter)\n",
    "    print('Result: ', list_with_repetitions, repetitions)\n",
    "\n",
    "split_list(list_with_repetitions)"
   ]
  },
  {
   "cell_type": "markdown",
   "id": "379be056",
   "metadata": {},
   "source": [
    "Реализация 2"
   ]
  },
  {
   "cell_type": "code",
   "execution_count": 10,
   "id": "9927ca9a",
   "metadata": {},
   "outputs": [
    {
     "name": "stdout",
     "output_type": "stream",
     "text": [
      "Result:  (array([2, 3, 5]), array([3, 3, 1]))\n"
     ]
    }
   ],
   "source": [
    "vector_with_repetitions = np.array([2, 2, 2, 3, 3, 3, 5])\n",
    "\n",
    "def split_list_numpy(vector):\n",
    "  if vector.size == 0:\n",
    "    return np.array([]), np.array([])\n",
    "  elements, repetitions = np.unique(vector, return_counts=True)\n",
    "  return elements, repetitions\n",
    "  \n",
    "result = split_list_numpy(vector_with_repetitions)\n",
    "print('Result: ', result) "
   ]
  },
  {
   "cell_type": "markdown",
   "id": "077532ec",
   "metadata": {},
   "source": [
    "* __Задача 5__: Даны две выборки объектов - X и Y. Вычислить матрицу евклидовых расстояний между объектами. Сравните с функцией scipy.spatial.distance.cdist по скорости работы."
   ]
  },
  {
   "cell_type": "markdown",
   "id": "0d35ee10",
   "metadata": {},
   "source": [
    "Реализация 1"
   ]
  },
  {
   "cell_type": "code",
   "execution_count": 19,
   "id": "1e807797",
   "metadata": {},
   "outputs": [
    {
     "name": "stdout",
     "output_type": "stream",
     "text": [
      "Numpy time:  2.99\n",
      "Scipy time:  0.01\n"
     ]
    }
   ],
   "source": [
    "import math\n",
    "import timeit\n",
    "from scipy.spatial.distance import cdist\n",
    "\n",
    "number_of_rows = 700\n",
    "number_of_dimensions = 30\n",
    "number_of_runs = 4\n",
    "\n",
    "selection_1_np = np.random.rand(number_of_rows, number_of_dimensions)\n",
    "selection_2_np = np.random.rand(number_of_rows, number_of_dimensions)\n",
    "selection_1 = selection_1_np.tolist()\n",
    "selection_2 = selection_2_np.tolist()\n",
    "\n",
    "def euclidean_distance_list(list_1, list_2):\n",
    "    square_sum = 0\n",
    "    for i in range(len(list_1)):\n",
    "        square_sum += (list_1[i] - list_2[i]) ** 2\n",
    "    return math.sqrt(square_sum)\n",
    "\n",
    "def euclidean_distances_lists(first_selection, second_selection):\n",
    "    result_matrix = []\n",
    "    for row_x in first_selection:\n",
    "        row_distances = []\n",
    "        for row_y in second_selection:\n",
    "            distance = euclidean_distance_list(row_x, row_y)\n",
    "            row_distances.append(distance)\n",
    "        result_matrix.append(row_distances)\n",
    "    return result_matrix\n",
    "\n",
    "list_time = timeit.timeit(lambda: euclidean_distances_lists(selection_1, selection_2), number=number_of_runs)\n",
    "average_time_list = list_time / number_of_runs\n",
    "\n",
    "scipy_time = timeit.timeit(lambda: cdist(selection_1_np, selection_2_np, metric='euclidean'), number=number_of_runs)\n",
    "average_time_scipy = scipy_time / number_of_runs\n",
    "\n",
    "result_list = euclidean_distances_lists(selection_1, selection_2)\n",
    "result_1 = np.array(result_list) \n",
    "\n",
    "result_1 = euclidean_distances_lists(selection_1, selection_2)\n",
    "#print('Result: ', result_1)\n",
    "print('Numpy time: ', round(average_time_list, 2))\n",
    "print('Scipy time: ', round(average_time_scipy, 2))"
   ]
  },
  {
   "cell_type": "markdown",
   "id": "e0f8dba1",
   "metadata": {},
   "source": [
    "Реализация 2"
   ]
  },
  {
   "cell_type": "code",
   "execution_count": 20,
   "id": "eef5fced",
   "metadata": {},
   "outputs": [
    {
     "name": "stdout",
     "output_type": "stream",
     "text": [
      "Result:  [[2.22735473 2.26334508 2.26789323 ... 2.43139938 2.24396192 2.42735942]\n",
      " [1.70731895 1.81033521 2.09355746 ... 1.82829938 2.32345685 2.07342434]\n",
      " [2.18113015 2.05310912 2.38083279 ... 1.99999922 2.33262836 1.92701515]\n",
      " ...\n",
      " [1.90415625 2.22516945 2.70961556 ... 2.0450583  2.51256716 2.35532465]\n",
      " [2.42349937 2.71729479 2.38231888 ... 2.02222571 2.49406718 2.55228799]\n",
      " [2.08604242 2.39178345 2.86494427 ... 1.84543329 2.43019832 2.51309157]]\n",
      "Numpy time:  0.01\n",
      "Scipy time:  0.01\n"
     ]
    }
   ],
   "source": [
    "import timeit\n",
    "from scipy.spatial.distance import cdist\n",
    "\n",
    "number_of_rows = 700\n",
    "number_of_dimensions = 30\n",
    "number_of_runs = 4\n",
    "selection_1 = np.random.rand(number_of_rows, number_of_dimensions)\n",
    "selection_2 = np.random.rand(number_of_rows, number_of_dimensions)\n",
    "\n",
    "def euclidean_distances_numpy(first_selection, second_selection):\n",
    "  first_squares_of_lengths = np.sum(np.square(first_selection), axis=1, keepdims=True)\n",
    "  second_squares_of_lengths = np.sum(np.square(second_selection), axis=1, keepdims=True)\n",
    "  dot_product = np.dot(first_selection, second_selection.T)\n",
    "  square_distances = first_squares_of_lengths + second_squares_of_lengths.T - 2 * dot_product\n",
    "  square_distances = np.maximum(square_distances, 0)\n",
    "  return np.sqrt(square_distances)\n",
    "\n",
    "numpy_time = timeit.timeit(lambda: euclidean_distances_numpy(selection_1, selection_2), number=number_of_runs)\n",
    "average_time_numpy = numpy_time / number_of_runs\n",
    "\n",
    "scipy_time = timeit.timeit(lambda: cdist(selection_1, selection_2, metric='euclidean'), number=number_of_runs)\n",
    "average_time_scipy = scipy_time / number_of_runs\n",
    "\n",
    "result_1 = euclidean_distances_numpy(selection_1, selection_2)\n",
    "print('Result: ', result_1)\n",
    "print('Numpy time: ', round(average_time_numpy, 2))\n",
    "print('Scipy time: ', round(average_time_scipy, 2))"
   ]
  },
  {
   "cell_type": "markdown",
   "id": "973e8064",
   "metadata": {},
   "source": [
    "_______\n",
    "________"
   ]
  },
  {
   "cell_type": "markdown",
   "id": "1104acb7",
   "metadata": {},
   "source": [
    "* #### __Задача 6__: CrunchieMunchies __*__\n",
    "\n",
    "Вы работаете в отделе маркетинга пищевой компании MyCrunch, которая разрабатывает новый вид вкусных, полезных злаков под названием **CrunchieMunchies**.\n",
    "\n",
    "Вы хотите продемонстрировать потребителям, насколько полезны ваши хлопья по сравнению с другими ведущими брендами, поэтому вы собрали данные о питании нескольких разных конкурентов.\n",
    "\n",
    "Ваша задача - использовать вычисления Numpy для анализа этих данных и доказать, что ваши **СrunchieMunchies** - самый здоровый выбор для потребителей.\n"
   ]
  },
  {
   "cell_type": "code",
   "execution_count": 52,
   "id": "10a77f8d",
   "metadata": {},
   "outputs": [],
   "source": [
    "import numpy as np"
   ]
  },
  {
   "cell_type": "markdown",
   "id": "ab87cb03",
   "metadata": {},
   "source": [
    "1. Просмотрите файл cereal.csv. Этот файл содержит количества калорий для различных марок хлопьев. Загрузите данные из файла и сохраните их как calorie_stats."
   ]
  },
  {
   "cell_type": "code",
   "execution_count": 53,
   "id": "9681ebf2",
   "metadata": {},
   "outputs": [
    {
     "data": {
      "text/plain": [
       "array([ 70., 120.,  70.,  50., 110., 110., 110., 130.,  90.,  90., 120.,\n",
       "       110., 120., 110., 110., 110., 100., 110., 110., 110., 100., 110.,\n",
       "       100., 100., 110., 110., 100., 120., 120., 110., 100., 110., 100.,\n",
       "       110., 120., 120., 110., 110., 110., 140., 110., 100., 110., 100.,\n",
       "       150., 150., 160., 100., 120., 140.,  90., 130., 120., 100.,  50.,\n",
       "        50., 100., 100., 120., 100.,  90., 110., 110.,  80.,  90.,  90.,\n",
       "       110., 110.,  90., 110., 140., 100., 110., 110., 100., 100., 110.])"
      ]
     },
     "execution_count": 53,
     "metadata": {},
     "output_type": "execute_result"
    }
   ],
   "source": [
    "calorie_stats = np.loadtxt(\"./data/cereal.csv\", delimiter=\",\")\n",
    "calorie_stats"
   ]
  },
  {
   "cell_type": "markdown",
   "id": "139cfbd8",
   "metadata": {},
   "source": [
    "2. В одной порции CrunchieMunchies содержится 60 калорий. Насколько выше среднее количество калорий у ваших конкурентов?\n",
    "\n",
    "Сохраните ответ в переменной average_calories и распечатайте переменную в терминале"
   ]
  },
  {
   "cell_type": "code",
   "execution_count": 54,
   "id": "7036d240",
   "metadata": {},
   "outputs": [],
   "source": [
    "# your code"
   ]
  },
  {
   "cell_type": "markdown",
   "id": "b2ddb4cd",
   "metadata": {},
   "source": [
    "3. Корректно ли среднее количество калорий отражает распределение набора данных? Давайте отсортируем данные и посмотрим.\n",
    "\n",
    "Отсортируйте данные и сохраните результат в переменной calorie_stats_sorted. Распечатайте отсортированную информацию"
   ]
  },
  {
   "cell_type": "code",
   "execution_count": 55,
   "id": "46eeb4ed",
   "metadata": {},
   "outputs": [],
   "source": [
    "# your code"
   ]
  },
  {
   "cell_type": "markdown",
   "id": "4dc74116",
   "metadata": {},
   "source": [
    "4. Похоже, что большинство значений выше среднего. Давайте посмотрим, является ли медиана наиболее корректным показателем набора данных.\n",
    "\n",
    "Вычислите медиану набора данных и сохраните свой ответ в median_calories. Выведите медиану, чтобы вы могли видеть, как она сравнивается со средним значением."
   ]
  },
  {
   "cell_type": "code",
   "execution_count": 56,
   "id": "b56627c3",
   "metadata": {},
   "outputs": [],
   "source": [
    "# your code"
   ]
  },
  {
   "cell_type": "markdown",
   "id": "a63ab72f",
   "metadata": {},
   "source": [
    "5. В то время как медиана показывает, что по крайней мере половина наших значений составляет более 100 калорий, было бы более впечатляюще показать, что значительная часть конкурентов имеет более высокое количество калорий, чем CrunchieMunchies.\n",
    "\n",
    "Рассчитайте различные процентили и распечатайте их, пока не найдете наименьший процентиль, превышающий 60 калорий. Сохраните это значение в переменной nth_percentile."
   ]
  },
  {
   "cell_type": "code",
   "execution_count": 57,
   "id": "fe80ce03",
   "metadata": {},
   "outputs": [],
   "source": [
    "# your code"
   ]
  },
  {
   "cell_type": "markdown",
   "id": "a2a3c5aa",
   "metadata": {},
   "source": [
    "6. Хотя процентиль показывает нам, что у большинства конкурентов количество калорий намного выше, это неудобная концепция для использования в маркетинговых материалах.\n",
    "\n",
    "Вместо этого давайте подсчитаем процент хлопьев, в которых содержится более 60 калорий на порцию. Сохраните свой ответ в переменной more_calories и распечатайте его"
   ]
  },
  {
   "cell_type": "code",
   "execution_count": 58,
   "id": "ade0f6ea",
   "metadata": {},
   "outputs": [],
   "source": [
    "# your code"
   ]
  },
  {
   "cell_type": "markdown",
   "id": "1735d65b",
   "metadata": {},
   "source": [
    "7. Это действительно высокий процент. Это будет очень полезно, когда мы будем продвигать CrunchieMunchies. Но один вопрос заключается в том, насколько велики различия в наборе данных? Можем ли мы сделать обобщение, что в большинстве злаков содержится около 100 калорий или разброс еще больше?\n",
    "\n",
    "Рассчитайте величину отклонения, найдя стандартное отклонение, Сохраните свой ответ в calorie_std и распечатайте на терминале. Как мы можем включить эту ценность в наш анализ?"
   ]
  },
  {
   "cell_type": "code",
   "execution_count": 59,
   "id": "85c8df1f",
   "metadata": {},
   "outputs": [],
   "source": [
    "# your code"
   ]
  },
  {
   "cell_type": "markdown",
   "id": "037455c5",
   "metadata": {},
   "source": [
    "8. Напишите короткий абзац, в котором кратко изложите свои выводы и то, как, по вашему мнению, эти данные могут быть использованы в интересах Mycrunch при маркетинге CrunchieMunchies."
   ]
  },
  {
   "cell_type": "code",
   "execution_count": 60,
   "id": "c260fee9",
   "metadata": {},
   "outputs": [],
   "source": [
    "# your code"
   ]
  }
 ],
 "metadata": {
  "kernelspec": {
   "display_name": "venv",
   "language": "python",
   "name": "python3"
  },
  "language_info": {
   "codemirror_mode": {
    "name": "ipython",
    "version": 3
   },
   "file_extension": ".py",
   "mimetype": "text/x-python",
   "name": "python",
   "nbconvert_exporter": "python",
   "pygments_lexer": "ipython3",
   "version": "3.12.0"
  }
 },
 "nbformat": 4,
 "nbformat_minor": 5
}
